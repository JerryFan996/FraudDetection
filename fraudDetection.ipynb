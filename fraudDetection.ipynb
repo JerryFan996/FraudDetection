{
 "cells": [
  {
   "cell_type": "markdown",
   "metadata": {},
   "source": [
    "# Step1: Read the file"
   ]
  },
  {
   "cell_type": "code",
   "execution_count": 1,
   "metadata": {},
   "outputs": [],
   "source": [
    "import numpy as np\n",
    "import pandas as pd\n",
    "import matplotlib.pyplot as plt\n",
    "import seaborn as sns\n",
    "\n",
    "from pyspark import SparkContext\n",
    "\n",
    "from pyspark.sql import SparkSession\n",
    "from pyspark.sql.functions import explode, col, desc\n",
    "from pyspark.sql.types import ArrayType, StringType, IntegerType\n",
    "from pyspark.sql import functions as F\n",
    "\n",
    "# Import packages\n",
    "import requests\n",
    "from io import StringIO\n",
    "import pandas as pd\n",
    "import faiss\n",
    "import os\n",
    "import time\n",
    "\n",
    "from sklearn.preprocessing import LabelEncoder, RobustScaler\n",
    "from sklearn.model_selection import train_test_split\n",
    "from sklearn.preprocessing import LabelEncoder, RobustScaler\n",
    "\n",
    "from pyspark.ml.feature import VectorAssembler, StandardScaler\n",
    "from pyspark.ml.classification import LinearSVC\n",
    "from pyspark.ml.evaluation import MulticlassClassificationEvaluator\n",
    "\n",
    "from sklearn.metrics import accuracy_score, confusion_matrix, classification_report, ConfusionMatrixDisplay"
   ]
  },
  {
   "cell_type": "markdown",
   "metadata": {},
   "source": [
    "## Read to CSV and drop the first collumn since it's meanless"
   ]
  },
  {
   "cell_type": "code",
   "execution_count": 2,
   "metadata": {},
   "outputs": [],
   "source": [
    "df_pd = pd.read_csv(\"credit_card_transactions.csv\").drop(columns=['Unnamed: 0'], axis=1)"
   ]
  },
  {
   "cell_type": "code",
   "execution_count": 3,
   "metadata": {},
   "outputs": [
    {
     "data": {
      "text/html": [
       "<div>\n",
       "<style scoped>\n",
       "    .dataframe tbody tr th:only-of-type {\n",
       "        vertical-align: middle;\n",
       "    }\n",
       "\n",
       "    .dataframe tbody tr th {\n",
       "        vertical-align: top;\n",
       "    }\n",
       "\n",
       "    .dataframe thead th {\n",
       "        text-align: right;\n",
       "    }\n",
       "</style>\n",
       "<table border=\"1\" class=\"dataframe\">\n",
       "  <thead>\n",
       "    <tr style=\"text-align: right;\">\n",
       "      <th></th>\n",
       "      <th>trans_date_trans_time</th>\n",
       "      <th>cc_num</th>\n",
       "      <th>merchant</th>\n",
       "      <th>category</th>\n",
       "      <th>amt</th>\n",
       "      <th>first</th>\n",
       "      <th>last</th>\n",
       "      <th>gender</th>\n",
       "      <th>street</th>\n",
       "      <th>city</th>\n",
       "      <th>...</th>\n",
       "      <th>long</th>\n",
       "      <th>city_pop</th>\n",
       "      <th>job</th>\n",
       "      <th>dob</th>\n",
       "      <th>trans_num</th>\n",
       "      <th>unix_time</th>\n",
       "      <th>merch_lat</th>\n",
       "      <th>merch_long</th>\n",
       "      <th>is_fraud</th>\n",
       "      <th>merch_zipcode</th>\n",
       "    </tr>\n",
       "  </thead>\n",
       "  <tbody>\n",
       "    <tr>\n",
       "      <th>0</th>\n",
       "      <td>2019-01-01 00:00:18</td>\n",
       "      <td>2703186189652095</td>\n",
       "      <td>fraud_Rippin, Kub and Mann</td>\n",
       "      <td>misc_net</td>\n",
       "      <td>4.97</td>\n",
       "      <td>Jennifer</td>\n",
       "      <td>Banks</td>\n",
       "      <td>F</td>\n",
       "      <td>561 Perry Cove</td>\n",
       "      <td>Moravian Falls</td>\n",
       "      <td>...</td>\n",
       "      <td>-81.1781</td>\n",
       "      <td>3495</td>\n",
       "      <td>Psychologist, counselling</td>\n",
       "      <td>1988-03-09</td>\n",
       "      <td>0b242abb623afc578575680df30655b9</td>\n",
       "      <td>1325376018</td>\n",
       "      <td>36.011293</td>\n",
       "      <td>-82.048315</td>\n",
       "      <td>0</td>\n",
       "      <td>28705.0</td>\n",
       "    </tr>\n",
       "    <tr>\n",
       "      <th>1</th>\n",
       "      <td>2019-01-01 00:00:44</td>\n",
       "      <td>630423337322</td>\n",
       "      <td>fraud_Heller, Gutmann and Zieme</td>\n",
       "      <td>grocery_pos</td>\n",
       "      <td>107.23</td>\n",
       "      <td>Stephanie</td>\n",
       "      <td>Gill</td>\n",
       "      <td>F</td>\n",
       "      <td>43039 Riley Greens Suite 393</td>\n",
       "      <td>Orient</td>\n",
       "      <td>...</td>\n",
       "      <td>-118.2105</td>\n",
       "      <td>149</td>\n",
       "      <td>Special educational needs teacher</td>\n",
       "      <td>1978-06-21</td>\n",
       "      <td>1f76529f8574734946361c461b024d99</td>\n",
       "      <td>1325376044</td>\n",
       "      <td>49.159047</td>\n",
       "      <td>-118.186462</td>\n",
       "      <td>0</td>\n",
       "      <td>NaN</td>\n",
       "    </tr>\n",
       "    <tr>\n",
       "      <th>2</th>\n",
       "      <td>2019-01-01 00:00:51</td>\n",
       "      <td>38859492057661</td>\n",
       "      <td>fraud_Lind-Buckridge</td>\n",
       "      <td>entertainment</td>\n",
       "      <td>220.11</td>\n",
       "      <td>Edward</td>\n",
       "      <td>Sanchez</td>\n",
       "      <td>M</td>\n",
       "      <td>594 White Dale Suite 530</td>\n",
       "      <td>Malad City</td>\n",
       "      <td>...</td>\n",
       "      <td>-112.2620</td>\n",
       "      <td>4154</td>\n",
       "      <td>Nature conservation officer</td>\n",
       "      <td>1962-01-19</td>\n",
       "      <td>a1a22d70485983eac12b5b88dad1cf95</td>\n",
       "      <td>1325376051</td>\n",
       "      <td>43.150704</td>\n",
       "      <td>-112.154481</td>\n",
       "      <td>0</td>\n",
       "      <td>83236.0</td>\n",
       "    </tr>\n",
       "    <tr>\n",
       "      <th>3</th>\n",
       "      <td>2019-01-01 00:01:16</td>\n",
       "      <td>3534093764340240</td>\n",
       "      <td>fraud_Kutch, Hermiston and Farrell</td>\n",
       "      <td>gas_transport</td>\n",
       "      <td>45.00</td>\n",
       "      <td>Jeremy</td>\n",
       "      <td>White</td>\n",
       "      <td>M</td>\n",
       "      <td>9443 Cynthia Court Apt. 038</td>\n",
       "      <td>Boulder</td>\n",
       "      <td>...</td>\n",
       "      <td>-112.1138</td>\n",
       "      <td>1939</td>\n",
       "      <td>Patent attorney</td>\n",
       "      <td>1967-01-12</td>\n",
       "      <td>6b849c168bdad6f867558c3793159a81</td>\n",
       "      <td>1325376076</td>\n",
       "      <td>47.034331</td>\n",
       "      <td>-112.561071</td>\n",
       "      <td>0</td>\n",
       "      <td>NaN</td>\n",
       "    </tr>\n",
       "    <tr>\n",
       "      <th>4</th>\n",
       "      <td>2019-01-01 00:03:06</td>\n",
       "      <td>375534208663984</td>\n",
       "      <td>fraud_Keeling-Crist</td>\n",
       "      <td>misc_pos</td>\n",
       "      <td>41.96</td>\n",
       "      <td>Tyler</td>\n",
       "      <td>Garcia</td>\n",
       "      <td>M</td>\n",
       "      <td>408 Bradley Rest</td>\n",
       "      <td>Doe Hill</td>\n",
       "      <td>...</td>\n",
       "      <td>-79.4629</td>\n",
       "      <td>99</td>\n",
       "      <td>Dance movement psychotherapist</td>\n",
       "      <td>1986-03-28</td>\n",
       "      <td>a41d7549acf90789359a9aa5346dcb46</td>\n",
       "      <td>1325376186</td>\n",
       "      <td>38.674999</td>\n",
       "      <td>-78.632459</td>\n",
       "      <td>0</td>\n",
       "      <td>22844.0</td>\n",
       "    </tr>\n",
       "  </tbody>\n",
       "</table>\n",
       "<p>5 rows × 23 columns</p>\n",
       "</div>"
      ],
      "text/plain": [
       "  trans_date_trans_time            cc_num                            merchant  \\\n",
       "0   2019-01-01 00:00:18  2703186189652095          fraud_Rippin, Kub and Mann   \n",
       "1   2019-01-01 00:00:44      630423337322     fraud_Heller, Gutmann and Zieme   \n",
       "2   2019-01-01 00:00:51    38859492057661                fraud_Lind-Buckridge   \n",
       "3   2019-01-01 00:01:16  3534093764340240  fraud_Kutch, Hermiston and Farrell   \n",
       "4   2019-01-01 00:03:06   375534208663984                 fraud_Keeling-Crist   \n",
       "\n",
       "        category     amt      first     last gender  \\\n",
       "0       misc_net    4.97   Jennifer    Banks      F   \n",
       "1    grocery_pos  107.23  Stephanie     Gill      F   \n",
       "2  entertainment  220.11     Edward  Sanchez      M   \n",
       "3  gas_transport   45.00     Jeremy    White      M   \n",
       "4       misc_pos   41.96      Tyler   Garcia      M   \n",
       "\n",
       "                         street            city  ...      long  city_pop  \\\n",
       "0                561 Perry Cove  Moravian Falls  ...  -81.1781      3495   \n",
       "1  43039 Riley Greens Suite 393          Orient  ... -118.2105       149   \n",
       "2      594 White Dale Suite 530      Malad City  ... -112.2620      4154   \n",
       "3   9443 Cynthia Court Apt. 038         Boulder  ... -112.1138      1939   \n",
       "4              408 Bradley Rest        Doe Hill  ...  -79.4629        99   \n",
       "\n",
       "                                 job         dob  \\\n",
       "0          Psychologist, counselling  1988-03-09   \n",
       "1  Special educational needs teacher  1978-06-21   \n",
       "2        Nature conservation officer  1962-01-19   \n",
       "3                    Patent attorney  1967-01-12   \n",
       "4     Dance movement psychotherapist  1986-03-28   \n",
       "\n",
       "                          trans_num   unix_time  merch_lat  merch_long  \\\n",
       "0  0b242abb623afc578575680df30655b9  1325376018  36.011293  -82.048315   \n",
       "1  1f76529f8574734946361c461b024d99  1325376044  49.159047 -118.186462   \n",
       "2  a1a22d70485983eac12b5b88dad1cf95  1325376051  43.150704 -112.154481   \n",
       "3  6b849c168bdad6f867558c3793159a81  1325376076  47.034331 -112.561071   \n",
       "4  a41d7549acf90789359a9aa5346dcb46  1325376186  38.674999  -78.632459   \n",
       "\n",
       "   is_fraud  merch_zipcode  \n",
       "0         0        28705.0  \n",
       "1         0            NaN  \n",
       "2         0        83236.0  \n",
       "3         0            NaN  \n",
       "4         0        22844.0  \n",
       "\n",
       "[5 rows x 23 columns]"
      ]
     },
     "execution_count": 3,
     "metadata": {},
     "output_type": "execute_result"
    }
   ],
   "source": [
    "df_pd.head()"
   ]
  },
  {
   "cell_type": "markdown",
   "metadata": {},
   "source": [
    "# Step2: Preprocess data"
   ]
  },
  {
   "cell_type": "code",
   "execution_count": 4,
   "metadata": {},
   "outputs": [],
   "source": [
    "def preprocess(df):\n",
    "    encoder= LabelEncoder()\n",
    "    scaler= RobustScaler()\n",
    "\n",
    "    for col in df.columns:\n",
    "        if df[col].dtype=='O':\n",
    "            df[col]= encoder.fit_transform(df[col])\n",
    "    df= scaler.fit_transform(df)\n",
    "\n",
    "    del(encoder)\n",
    "    del(scaler)"
   ]
  },
  {
   "cell_type": "code",
   "execution_count": 5,
   "metadata": {},
   "outputs": [],
   "source": [
    "df_pd.drop(inplace=True, axis=1, columns=['merch_zipcode', 'cc_num'])\n",
    "preprocess(df_pd)"
   ]
  },
  {
   "cell_type": "code",
   "execution_count": 6,
   "metadata": {},
   "outputs": [
    {
     "name": "stdout",
     "output_type": "stream",
     "text": [
      "train size: (1037340, 21), test size: (259335, 21)\n"
     ]
    }
   ],
   "source": [
    "df_train, df_test= train_test_split(df_pd, test_size=0.2, random_state=42, shuffle=True)\n",
    "preprocess(df_train)\n",
    "preprocess(df_test)\n",
    "print(f'train size: {df_train.shape}, test size: {df_test.shape}')"
   ]
  },
  {
   "cell_type": "markdown",
   "metadata": {},
   "source": [
    "# Step3: Store to faiss vector database"
   ]
  },
  {
   "cell_type": "code",
   "execution_count": 7,
   "metadata": {},
   "outputs": [
    {
     "name": "stdout",
     "output_type": "stream",
     "text": [
      "Number of vectors in the training index: 1037340\n",
      "Number of vectors in the test index: 259335\n"
     ]
    }
   ],
   "source": [
    "# Convert the Pandas DataFrames to NumPy arrays and ensure they are float32 type\n",
    "train_data = df_train.values.astype('float32')\n",
    "test_data = df_test.values.astype('float32')\n",
    "\n",
    "# Step 1: Define the dimension (number of columns) for FAISS\n",
    "dimension_train = train_data.shape[1]\n",
    "dimension_test = test_data.shape[1]\n",
    "\n",
    "# Ensure the dimensions match for train and test\n",
    "assert dimension_train == dimension_test, \"Train and test dimensions must match.\"\n",
    "\n",
    "# Step 2: Create FAISS indices for train and test data\n",
    "index_train = faiss.IndexFlatL2(dimension_train)  # L2 distance metric for the train set\n",
    "index_test = faiss.IndexFlatL2(dimension_test)    # L2 distance metric for the test set\n",
    "\n",
    "# Step 3: Add the vectors to the FAISS index\n",
    "index_train.add(train_data)\n",
    "index_test.add(test_data)\n",
    "\n",
    "# Step 4: Optional - Save the FAISS indices to files for later use\n",
    "faiss.write_index(index_train, 'faiss_train_data.index')\n",
    "faiss.write_index(index_test, 'faiss_test_data.index')\n",
    "\n",
    "# Print the number of vectors in each index\n",
    "print(f\"Number of vectors in the training index: {index_train.ntotal}\")\n",
    "print(f\"Number of vectors in the test index: {index_test.ntotal}\")"
   ]
  },
  {
   "cell_type": "markdown",
   "metadata": {},
   "source": [
    "## check whether vector database created successfully"
   ]
  },
  {
   "cell_type": "code",
   "execution_count": 8,
   "metadata": {},
   "outputs": [
    {
     "name": "stdout",
     "output_type": "stream",
     "text": [
      "Existing FAISS index files: ['faiss_train_data.index', 'faiss_test_data.index']\n"
     ]
    }
   ],
   "source": [
    "# List all files in the current directory\n",
    "files_in_directory = os.listdir()\n",
    "\n",
    "# Filter files that are FAISS index files (typically have `.index` extension)\n",
    "faiss_indexes = [f for f in files_in_directory if f.endswith('.index')]\n",
    "\n",
    "print(\"Existing FAISS index files:\", faiss_indexes)"
   ]
  },
  {
   "cell_type": "markdown",
   "metadata": {},
   "source": [
    "# Step4: Data exploration"
   ]
  },
  {
   "cell_type": "markdown",
   "metadata": {},
   "source": [
    "## Read the train test database back to panda df for data visualization"
   ]
  },
  {
   "cell_type": "code",
   "execution_count": 9,
   "metadata": {},
   "outputs": [],
   "source": [
    "# Function to read FAISS index and convert it back to a Pandas DataFrame\n",
    "def read_faiss_to_dataframe(index_file, column_names):\n",
    "    # Step 1: Load the FAISS index\n",
    "    index = faiss.read_index(index_file)\n",
    "    \n",
    "    # Step 2: Retrieve the number of vectors and the dimension of the data\n",
    "    num_vectors = index.ntotal  # The total number of vectors stored\n",
    "    dimension = index.d         # The dimension of each vector (number of columns in the original dataframe)\n",
    "    \n",
    "    # Step 3: Initialize a NumPy array to hold the vectors\n",
    "    retrieved_vectors = np.zeros((num_vectors, dimension), dtype='float32')\n",
    "    \n",
    "    # Step 4: Use FAISS to reconstruct the vectors\n",
    "    index.reconstruct_n(0, num_vectors, retrieved_vectors)\n",
    "    \n",
    "    # Step 5: Convert the NumPy array back to a Pandas DataFrame\n",
    "    df_reconstructed = pd.DataFrame(retrieved_vectors, columns=column_names)\n",
    "    \n",
    "    return df_reconstructed"
   ]
  },
  {
   "cell_type": "code",
   "execution_count": 10,
   "metadata": {},
   "outputs": [],
   "source": [
    "# Assuming the original DataFrame had column names before preprocessing\n",
    "column_names = list(df_pd.columns)  # Use the original column names or modify as needed\n",
    "\n",
    "# Step 6: Read both the training and test FAISS indices into Pandas DataFrames\n",
    "df_train = read_faiss_to_dataframe('faiss_train_data.index', column_names)\n",
    "df_test = read_faiss_to_dataframe('faiss_test_data.index', column_names)\n"
   ]
  },
  {
   "cell_type": "code",
   "execution_count": 11,
   "metadata": {},
   "outputs": [
    {
     "name": "stdout",
     "output_type": "stream",
     "text": [
      "df_train DataFrame:\n"
     ]
    },
    {
     "data": {
      "text/html": [
       "<div>\n",
       "<style scoped>\n",
       "    .dataframe tbody tr th:only-of-type {\n",
       "        vertical-align: middle;\n",
       "    }\n",
       "\n",
       "    .dataframe tbody tr th {\n",
       "        vertical-align: top;\n",
       "    }\n",
       "\n",
       "    .dataframe thead th {\n",
       "        text-align: right;\n",
       "    }\n",
       "</style>\n",
       "<table border=\"1\" class=\"dataframe\">\n",
       "  <thead>\n",
       "    <tr style=\"text-align: right;\">\n",
       "      <th></th>\n",
       "      <th>trans_date_trans_time</th>\n",
       "      <th>merchant</th>\n",
       "      <th>category</th>\n",
       "      <th>amt</th>\n",
       "      <th>first</th>\n",
       "      <th>last</th>\n",
       "      <th>gender</th>\n",
       "      <th>street</th>\n",
       "      <th>city</th>\n",
       "      <th>state</th>\n",
       "      <th>...</th>\n",
       "      <th>lat</th>\n",
       "      <th>long</th>\n",
       "      <th>city_pop</th>\n",
       "      <th>job</th>\n",
       "      <th>dob</th>\n",
       "      <th>trans_num</th>\n",
       "      <th>unix_time</th>\n",
       "      <th>merch_lat</th>\n",
       "      <th>merch_long</th>\n",
       "      <th>is_fraud</th>\n",
       "    </tr>\n",
       "  </thead>\n",
       "  <tbody>\n",
       "    <tr>\n",
       "      <th>0</th>\n",
       "      <td>325426.0</td>\n",
       "      <td>340.0</td>\n",
       "      <td>13.0</td>\n",
       "      <td>6.510000</td>\n",
       "      <td>239.0</td>\n",
       "      <td>234.0</td>\n",
       "      <td>0.0</td>\n",
       "      <td>677.0</td>\n",
       "      <td>270.0</td>\n",
       "      <td>18.0</td>\n",
       "      <td>...</td>\n",
       "      <td>30.657600</td>\n",
       "      <td>-91.626404</td>\n",
       "      <td>1178.0</td>\n",
       "      <td>99.0</td>\n",
       "      <td>157.0</td>\n",
       "      <td>1234400.0</td>\n",
       "      <td>1.338994e+09</td>\n",
       "      <td>31.189016</td>\n",
       "      <td>-91.426376</td>\n",
       "      <td>0.0</td>\n",
       "    </tr>\n",
       "    <tr>\n",
       "      <th>1</th>\n",
       "      <td>785703.0</td>\n",
       "      <td>476.0</td>\n",
       "      <td>0.0</td>\n",
       "      <td>20.170000</td>\n",
       "      <td>298.0</td>\n",
       "      <td>217.0</td>\n",
       "      <td>0.0</td>\n",
       "      <td>717.0</td>\n",
       "      <td>171.0</td>\n",
       "      <td>47.0</td>\n",
       "      <td>...</td>\n",
       "      <td>48.340000</td>\n",
       "      <td>-122.345596</td>\n",
       "      <td>85.0</td>\n",
       "      <td>390.0</td>\n",
       "      <td>704.0</td>\n",
       "      <td>1075528.0</td>\n",
       "      <td>1.354563e+09</td>\n",
       "      <td>47.373665</td>\n",
       "      <td>-122.739098</td>\n",
       "      <td>0.0</td>\n",
       "    </tr>\n",
       "    <tr>\n",
       "      <th>2</th>\n",
       "      <td>1239157.0</td>\n",
       "      <td>571.0</td>\n",
       "      <td>5.0</td>\n",
       "      <td>35.849998</td>\n",
       "      <td>98.0</td>\n",
       "      <td>408.0</td>\n",
       "      <td>0.0</td>\n",
       "      <td>683.0</td>\n",
       "      <td>406.0</td>\n",
       "      <td>43.0</td>\n",
       "      <td>...</td>\n",
       "      <td>32.383598</td>\n",
       "      <td>-94.865303</td>\n",
       "      <td>24536.0</td>\n",
       "      <td>300.0</td>\n",
       "      <td>688.0</td>\n",
       "      <td>1284208.0</td>\n",
       "      <td>1.370693e+09</td>\n",
       "      <td>31.989882</td>\n",
       "      <td>-95.371117</td>\n",
       "      <td>0.0</td>\n",
       "    </tr>\n",
       "    <tr>\n",
       "      <th>3</th>\n",
       "      <td>406299.0</td>\n",
       "      <td>357.0</td>\n",
       "      <td>3.0</td>\n",
       "      <td>42.209999</td>\n",
       "      <td>160.0</td>\n",
       "      <td>302.0</td>\n",
       "      <td>1.0</td>\n",
       "      <td>828.0</td>\n",
       "      <td>132.0</td>\n",
       "      <td>22.0</td>\n",
       "      <td>...</td>\n",
       "      <td>44.860500</td>\n",
       "      <td>-85.813797</td>\n",
       "      <td>3096.0</td>\n",
       "      <td>423.0</td>\n",
       "      <td>564.0</td>\n",
       "      <td>794616.0</td>\n",
       "      <td>1.341539e+09</td>\n",
       "      <td>45.377529</td>\n",
       "      <td>-86.450592</td>\n",
       "      <td>0.0</td>\n",
       "    </tr>\n",
       "    <tr>\n",
       "      <th>4</th>\n",
       "      <td>339570.0</td>\n",
       "      <td>197.0</td>\n",
       "      <td>7.0</td>\n",
       "      <td>57.240002</td>\n",
       "      <td>190.0</td>\n",
       "      <td>379.0</td>\n",
       "      <td>0.0</td>\n",
       "      <td>821.0</td>\n",
       "      <td>390.0</td>\n",
       "      <td>14.0</td>\n",
       "      <td>...</td>\n",
       "      <td>41.537800</td>\n",
       "      <td>-88.057198</td>\n",
       "      <td>128354.0</td>\n",
       "      <td>452.0</td>\n",
       "      <td>846.0</td>\n",
       "      <td>1166392.0</td>\n",
       "      <td>1.339371e+09</td>\n",
       "      <td>42.372906</td>\n",
       "      <td>-87.112755</td>\n",
       "      <td>0.0</td>\n",
       "    </tr>\n",
       "  </tbody>\n",
       "</table>\n",
       "<p>5 rows × 21 columns</p>\n",
       "</div>"
      ],
      "text/plain": [
       "   trans_date_trans_time  merchant  category        amt  first   last  gender  \\\n",
       "0               325426.0     340.0      13.0   6.510000  239.0  234.0     0.0   \n",
       "1               785703.0     476.0       0.0  20.170000  298.0  217.0     0.0   \n",
       "2              1239157.0     571.0       5.0  35.849998   98.0  408.0     0.0   \n",
       "3               406299.0     357.0       3.0  42.209999  160.0  302.0     1.0   \n",
       "4               339570.0     197.0       7.0  57.240002  190.0  379.0     0.0   \n",
       "\n",
       "   street   city  state  ...        lat        long  city_pop    job    dob  \\\n",
       "0   677.0  270.0   18.0  ...  30.657600  -91.626404    1178.0   99.0  157.0   \n",
       "1   717.0  171.0   47.0  ...  48.340000 -122.345596      85.0  390.0  704.0   \n",
       "2   683.0  406.0   43.0  ...  32.383598  -94.865303   24536.0  300.0  688.0   \n",
       "3   828.0  132.0   22.0  ...  44.860500  -85.813797    3096.0  423.0  564.0   \n",
       "4   821.0  390.0   14.0  ...  41.537800  -88.057198  128354.0  452.0  846.0   \n",
       "\n",
       "   trans_num     unix_time  merch_lat  merch_long  is_fraud  \n",
       "0  1234400.0  1.338994e+09  31.189016  -91.426376       0.0  \n",
       "1  1075528.0  1.354563e+09  47.373665 -122.739098       0.0  \n",
       "2  1284208.0  1.370693e+09  31.989882  -95.371117       0.0  \n",
       "3   794616.0  1.341539e+09  45.377529  -86.450592       0.0  \n",
       "4  1166392.0  1.339371e+09  42.372906  -87.112755       0.0  \n",
       "\n",
       "[5 rows x 21 columns]"
      ]
     },
     "execution_count": 11,
     "metadata": {},
     "output_type": "execute_result"
    }
   ],
   "source": [
    "print(\"df_train DataFrame:\")\n",
    "df_train.head()"
   ]
  },
  {
   "cell_type": "code",
   "execution_count": 12,
   "metadata": {},
   "outputs": [
    {
     "name": "stdout",
     "output_type": "stream",
     "text": [
      "\n",
      "df_test DataFrame:\n"
     ]
    },
    {
     "data": {
      "text/html": [
       "<div>\n",
       "<style scoped>\n",
       "    .dataframe tbody tr th:only-of-type {\n",
       "        vertical-align: middle;\n",
       "    }\n",
       "\n",
       "    .dataframe tbody tr th {\n",
       "        vertical-align: top;\n",
       "    }\n",
       "\n",
       "    .dataframe thead th {\n",
       "        text-align: right;\n",
       "    }\n",
       "</style>\n",
       "<table border=\"1\" class=\"dataframe\">\n",
       "  <thead>\n",
       "    <tr style=\"text-align: right;\">\n",
       "      <th></th>\n",
       "      <th>trans_date_trans_time</th>\n",
       "      <th>merchant</th>\n",
       "      <th>category</th>\n",
       "      <th>amt</th>\n",
       "      <th>first</th>\n",
       "      <th>last</th>\n",
       "      <th>gender</th>\n",
       "      <th>street</th>\n",
       "      <th>city</th>\n",
       "      <th>state</th>\n",
       "      <th>...</th>\n",
       "      <th>lat</th>\n",
       "      <th>long</th>\n",
       "      <th>city_pop</th>\n",
       "      <th>job</th>\n",
       "      <th>dob</th>\n",
       "      <th>trans_num</th>\n",
       "      <th>unix_time</th>\n",
       "      <th>merch_lat</th>\n",
       "      <th>merch_long</th>\n",
       "      <th>is_fraud</th>\n",
       "    </tr>\n",
       "  </thead>\n",
       "  <tbody>\n",
       "    <tr>\n",
       "      <th>0</th>\n",
       "      <td>1027327.0</td>\n",
       "      <td>629.0</td>\n",
       "      <td>9.0</td>\n",
       "      <td>194.509995</td>\n",
       "      <td>152.0</td>\n",
       "      <td>414.0</td>\n",
       "      <td>1.0</td>\n",
       "      <td>250.0</td>\n",
       "      <td>768.0</td>\n",
       "      <td>38.0</td>\n",
       "      <td>...</td>\n",
       "      <td>40.615299</td>\n",
       "      <td>-79.454498</td>\n",
       "      <td>972.0</td>\n",
       "      <td>378.0</td>\n",
       "      <td>922.0</td>\n",
       "      <td>1296509.0</td>\n",
       "      <td>1.362842e+09</td>\n",
       "      <td>40.420452</td>\n",
       "      <td>-78.865013</td>\n",
       "      <td>0.0</td>\n",
       "    </tr>\n",
       "    <tr>\n",
       "      <th>1</th>\n",
       "      <td>538776.0</td>\n",
       "      <td>180.0</td>\n",
       "      <td>5.0</td>\n",
       "      <td>52.320000</td>\n",
       "      <td>87.0</td>\n",
       "      <td>99.0</td>\n",
       "      <td>0.0</td>\n",
       "      <td>714.0</td>\n",
       "      <td>750.0</td>\n",
       "      <td>37.0</td>\n",
       "      <td>...</td>\n",
       "      <td>42.825001</td>\n",
       "      <td>-124.440903</td>\n",
       "      <td>217.0</td>\n",
       "      <td>400.0</td>\n",
       "      <td>15.0</td>\n",
       "      <td>1057001.0</td>\n",
       "      <td>1.345651e+09</td>\n",
       "      <td>42.758862</td>\n",
       "      <td>-123.636337</td>\n",
       "      <td>0.0</td>\n",
       "    </tr>\n",
       "    <tr>\n",
       "      <th>2</th>\n",
       "      <td>108782.0</td>\n",
       "      <td>429.0</td>\n",
       "      <td>12.0</td>\n",
       "      <td>6.530000</td>\n",
       "      <td>321.0</td>\n",
       "      <td>360.0</td>\n",
       "      <td>0.0</td>\n",
       "      <td>493.0</td>\n",
       "      <td>400.0</td>\n",
       "      <td>38.0</td>\n",
       "      <td>...</td>\n",
       "      <td>39.963600</td>\n",
       "      <td>-79.785301</td>\n",
       "      <td>184.0</td>\n",
       "      <td>444.0</td>\n",
       "      <td>106.0</td>\n",
       "      <td>688186.0</td>\n",
       "      <td>1.330825e+09</td>\n",
       "      <td>40.475159</td>\n",
       "      <td>-78.898193</td>\n",
       "      <td>0.0</td>\n",
       "    </tr>\n",
       "    <tr>\n",
       "      <th>3</th>\n",
       "      <td>1264236.0</td>\n",
       "      <td>187.0</td>\n",
       "      <td>6.0</td>\n",
       "      <td>7.330000</td>\n",
       "      <td>311.0</td>\n",
       "      <td>125.0</td>\n",
       "      <td>1.0</td>\n",
       "      <td>839.0</td>\n",
       "      <td>262.0</td>\n",
       "      <td>34.0</td>\n",
       "      <td>...</td>\n",
       "      <td>42.958000</td>\n",
       "      <td>-77.308296</td>\n",
       "      <td>10717.0</td>\n",
       "      <td>115.0</td>\n",
       "      <td>168.0</td>\n",
       "      <td>791337.0</td>\n",
       "      <td>1.371413e+09</td>\n",
       "      <td>43.767506</td>\n",
       "      <td>-76.542381</td>\n",
       "      <td>0.0</td>\n",
       "    </tr>\n",
       "    <tr>\n",
       "      <th>4</th>\n",
       "      <td>267939.0</td>\n",
       "      <td>92.0</td>\n",
       "      <td>2.0</td>\n",
       "      <td>64.290001</td>\n",
       "      <td>204.0</td>\n",
       "      <td>5.0</td>\n",
       "      <td>0.0</td>\n",
       "      <td>857.0</td>\n",
       "      <td>419.0</td>\n",
       "      <td>50.0</td>\n",
       "      <td>...</td>\n",
       "      <td>41.642300</td>\n",
       "      <td>-104.197403</td>\n",
       "      <td>635.0</td>\n",
       "      <td>358.0</td>\n",
       "      <td>525.0</td>\n",
       "      <td>129316.0</td>\n",
       "      <td>1.336975e+09</td>\n",
       "      <td>41.040394</td>\n",
       "      <td>-104.092323</td>\n",
       "      <td>0.0</td>\n",
       "    </tr>\n",
       "  </tbody>\n",
       "</table>\n",
       "<p>5 rows × 21 columns</p>\n",
       "</div>"
      ],
      "text/plain": [
       "   trans_date_trans_time  merchant  category         amt  first   last  \\\n",
       "0              1027327.0     629.0       9.0  194.509995  152.0  414.0   \n",
       "1               538776.0     180.0       5.0   52.320000   87.0   99.0   \n",
       "2               108782.0     429.0      12.0    6.530000  321.0  360.0   \n",
       "3              1264236.0     187.0       6.0    7.330000  311.0  125.0   \n",
       "4               267939.0      92.0       2.0   64.290001  204.0    5.0   \n",
       "\n",
       "   gender  street   city  state  ...        lat        long  city_pop    job  \\\n",
       "0     1.0   250.0  768.0   38.0  ...  40.615299  -79.454498     972.0  378.0   \n",
       "1     0.0   714.0  750.0   37.0  ...  42.825001 -124.440903     217.0  400.0   \n",
       "2     0.0   493.0  400.0   38.0  ...  39.963600  -79.785301     184.0  444.0   \n",
       "3     1.0   839.0  262.0   34.0  ...  42.958000  -77.308296   10717.0  115.0   \n",
       "4     0.0   857.0  419.0   50.0  ...  41.642300 -104.197403     635.0  358.0   \n",
       "\n",
       "     dob  trans_num     unix_time  merch_lat  merch_long  is_fraud  \n",
       "0  922.0  1296509.0  1.362842e+09  40.420452  -78.865013       0.0  \n",
       "1   15.0  1057001.0  1.345651e+09  42.758862 -123.636337       0.0  \n",
       "2  106.0   688186.0  1.330825e+09  40.475159  -78.898193       0.0  \n",
       "3  168.0   791337.0  1.371413e+09  43.767506  -76.542381       0.0  \n",
       "4  525.0   129316.0  1.336975e+09  41.040394 -104.092323       0.0  \n",
       "\n",
       "[5 rows x 21 columns]"
      ]
     },
     "execution_count": 12,
     "metadata": {},
     "output_type": "execute_result"
    }
   ],
   "source": [
    "print(\"\\ndf_test DataFrame:\")\n",
    "df_test.head()"
   ]
  },
  {
   "cell_type": "code",
   "execution_count": 13,
   "metadata": {},
   "outputs": [
    {
     "data": {
      "image/png": "[encoded data removed]",
      "text/plain": [
       "<Figure size 720x576 with 1 Axes>"
      ]
     },
     "metadata": {
      "needs_background": "light"
     },
     "output_type": "display_data"
    }
   ],
   "source": [
    "plt.figure(figsize=[10,8])\n",
    "sns.countplot(data=df_train , x='category')\n",
    "plt.xticks(rotation=45)\n",
    "plt.xlabel('Categories')\n",
    "plt.ylabel('Frequency')\n",
    "plt.title('Categories Distribution')\n",
    "plt.show()"
   ]
  },
  {
   "cell_type": "code",
   "execution_count": 14,
   "metadata": {},
   "outputs": [
    {
     "data": {
      "image/png": "[encoded data removed]",
      "text/plain": [
       "<Figure size 432x288 with 1 Axes>"
      ]
     },
     "metadata": {
      "needs_background": "light"
     },
     "output_type": "display_data"
    }
   ],
   "source": [
    "sns.countplot(data=df_train , x='gender')\n",
    "plt.title('Gender Distribution')\n",
    "plt.show()"
   ]
  },
  {
   "cell_type": "code",
   "execution_count": 15,
   "metadata": {},
   "outputs": [
    {
     "data": {
      "image/png": "[encoded data removed]",
      "text/plain": [
       "<Figure size 432x288 with 1 Axes>"
      ]
     },
     "metadata": {
      "needs_background": "light"
     },
     "output_type": "display_data"
    }
   ],
   "source": [
    "sns.countplot(data=df_train , x='is_fraud')\n",
    "plt.title('Fraud Distribution')\n",
    "plt.show()"
   ]
  },
  {
   "cell_type": "markdown",
   "metadata": {},
   "source": [
    "# Step5: Classification"
   ]
  },
  {
   "cell_type": "markdown",
   "metadata": {},
   "source": [
    "## Convert Pandas df to Spark df to use the spark lib to do data analysis"
   ]
  },
  {
   "cell_type": "code",
   "execution_count": 16,
   "metadata": {},
   "outputs": [],
   "source": [
    "spark = SparkSession.builder.appName(\"PandasToSpark\").getOrCreate()\n",
    "df_train = spark.createDataFrame(df_train)\n",
    "df_test = spark.createDataFrame(df_test)"
   ]
  },
  {
   "cell_type": "code",
   "execution_count": 17,
   "metadata": {},
   "outputs": [
    {
     "name": "stdout",
     "output_type": "stream",
     "text": [
      "+---------------------+--------+--------+------------------+-----+-----+------+------+-----+-----+-------+------------------+-------------------+---------+-----+-----+---------+-------------+------------------+-------------------+--------+\n",
      "|trans_date_trans_time|merchant|category|               amt|first| last|gender|street| city|state|    zip|               lat|               long| city_pop|  job|  dob|trans_num|    unix_time|         merch_lat|         merch_long|is_fraud|\n",
      "+---------------------+--------+--------+------------------+-----+-----+------+------+-----+-----+-------+------------------+-------------------+---------+-----+-----+---------+-------------+------------------+-------------------+--------+\n",
      "|             325426.0|   340.0|    13.0| 6.510000228881836|239.0|234.0|   0.0| 677.0|270.0| 18.0|70732.0| 30.65760040283203| -91.62640380859375|   1178.0| 99.0|157.0|1234400.0|1.338993792E9|31.189016342163086| -91.42637634277344|     0.0|\n",
      "|             785703.0|   476.0|     0.0|20.170000076293945|298.0|217.0|   0.0| 717.0|171.0| 47.0|98238.0| 48.34000015258789|-122.34559631347656|     85.0|390.0|704.0|1075528.0|1.354562816E9| 47.37366485595703|-122.73909759521484|     0.0|\n",
      "|            1239157.0|   571.0|     5.0|35.849998474121094| 98.0|408.0|   0.0| 683.0|406.0| 43.0|75662.0| 32.38359832763672| -94.86530303955078|  24536.0|300.0|688.0|1284208.0|1.370692992E9| 31.98988151550293|  -95.3711166381836|     0.0|\n",
      "|             406299.0|   357.0|     3.0|42.209999084472656|160.0|302.0|   1.0| 828.0|132.0| 22.0|49621.0| 44.86050033569336| -85.81379699707031|   3096.0|423.0|564.0| 794616.0|  1.3415392E9| 45.37752914428711| -86.45059204101562|     0.0|\n",
      "|             339570.0|   197.0|     7.0|  57.2400016784668|190.0|379.0|   0.0| 821.0|390.0| 14.0|60432.0| 41.53779983520508| -88.05719757080078| 128354.0|452.0|846.0|1166392.0|1.339371264E9| 42.37290573120117| -87.11275482177734|     0.0|\n",
      "|             928889.0|   336.0|     4.0| 82.62999725341797|142.0|277.0|   1.0| 941.0|653.0|  9.0|33981.0| 26.93790054321289| -82.23880004882812|  79008.0|381.0|703.0| 289702.0|1.358042112E9| 27.52953338623047|  -82.8554916381836|     0.0|\n",
      "|             681730.0|   232.0|     3.0|31.229999542236328| 66.0|296.0|   1.0| 835.0|405.0|  9.0|33040.0| 24.65570068359375| -81.38240051269531|  32891.0|474.0|754.0| 153224.0| 1.35089088E9|23.957212448120117| -82.14158630371094|     0.0|\n",
      "|             181683.0|   677.0|     9.0|262.92999267578125|220.0|129.0|   0.0| 593.0|751.0| 38.0|18357.0| 41.23360061645508| -75.23889923095703|    104.0|195.0|  8.0|1288018.0|1.333704064E9| 41.59197998046875| -75.66089630126953|     0.0|\n",
      "|             503372.0|   472.0|     4.0| 99.13999938964844|311.0|382.0|   1.0| 255.0|617.0| 16.0|66070.0|39.213600158691406| -95.44039916992188|   2661.0|462.0|131.0| 916588.0|1.344566144E9|38.365596771240234|  -96.4228286743164|     0.0|\n",
      "|             153316.0|   691.0|     2.0|45.970001220703125|274.0| 81.0|   0.0| 177.0|804.0| 48.0|54487.0|45.496299743652344| -89.72730255126953|   9594.0|418.0|924.0|1072955.0|1.332580864E9| 44.54571533203125| -90.33846282958984|     0.0|\n",
      "|            1057903.0|   474.0|     2.0| 91.23999786376953|203.0|288.0|   0.0| 762.0|450.0| 14.0|62856.0|37.994300842285156| -88.94170379638672|    324.0|415.0|578.0| 898782.0|1.364021376E9|37.984622955322266| -89.31990814208984|     0.0|\n",
      "|             503928.0|   497.0|     2.0| 74.12999725341797|311.0|448.0|   1.0| 322.0|890.0|  1.0|35776.0| 34.66889953613281| -86.22959899902344|   3395.0|140.0|621.0| 222773.0|1.344583936E9|34.799354553222656|  -85.7857894897461|     0.0|\n",
      "|             890819.0|   579.0|     5.0| 28.31999969482422|166.0|449.0|   0.0| 720.0|644.0|  3.0|85020.0| 33.56230163574219|-112.05590057373047|1312922.0|107.0|656.0| 352972.0| 1.35670208E9| 33.43259048461914|-111.46671295166016|     0.0|\n",
      "|             796411.0|   637.0|     0.0| 96.51000213623047|220.0|246.0|   0.0| 901.0|453.0| 14.0|61454.0| 40.67610168457031| -91.03910064697266|    725.0|178.0|513.0| 480592.0|1.354829696E9|40.042179107666016|  -90.9073486328125|     0.0|\n",
      "|            1207681.0|   686.0|     1.0|            102.25|166.0|449.0|   0.0| 720.0|644.0|  3.0|85020.0| 33.56230163574219|-112.05590057373047|1312922.0|107.0|656.0| 381374.0|1.369683456E9| 33.52061080932617| -111.4331283569336|     0.0|\n",
      "|            1195839.0|   475.0|     8.0|2.0799999237060547|102.0|131.0|   1.0| 830.0|597.0| 42.0|38060.0|   35.222900390625| -89.55180358886719|   9496.0|203.0|858.0| 303178.0|1.369370112E9| 35.08113479614258| -89.53681945800781|     0.0|\n",
      "|             948603.0|   308.0|     4.0| 209.6699981689453|214.0| 52.0|   0.0|  26.0|810.0| 36.0|74131.0| 36.05569839477539|  -96.0602035522461| 413574.0|453.0|482.0| 363513.0|1.359094784E9|36.125091552734375| -95.45197296142578|     0.0|\n",
      "|             649710.0|    39.0|     7.0|45.869998931884766|222.0|127.0|   1.0| 464.0|272.0| 50.0|82514.0|43.004798889160156|-108.89640045166016|   1645.0|202.0|572.0|  85930.0|1.349643776E9|42.531089782714844|-108.28235626220703|     0.0|\n",
      "|             118197.0|   151.0|     0.0|31.610000610351562|190.0|451.0|   0.0| 495.0|316.0| 10.0|31632.0|30.941600799560547|  -83.3573989868164|  10295.0|453.0|925.0| 871238.0|1.331237248E9|30.705026626586914| -82.40589904785156|     0.0|\n",
      "|             564104.0|   457.0|     6.0| 98.80999755859375|310.0|250.0|   1.0| 691.0|606.0| 14.0|62970.0| 37.19350051879883| -89.09329986572266|    639.0|287.0|671.0|1109240.0|1.346442496E9|37.269561767578125| -90.04500579833984|     0.0|\n",
      "+---------------------+--------+--------+------------------+-----+-----+------+------+-----+-----+-------+------------------+-------------------+---------+-----+-----+---------+-------------+------------------+-------------------+--------+\n",
      "only showing top 20 rows\n",
      "\n",
      "Number of rows in the df_train: 1037340\n"
     ]
    }
   ],
   "source": [
    "df_train.show()\n",
    "num_rows = df_train.count()\n",
    "print(f\"Number of rows in the df_train: {num_rows}\")"
   ]
  },
  {
   "cell_type": "code",
   "execution_count": 18,
   "metadata": {},
   "outputs": [
    {
     "name": "stdout",
     "output_type": "stream",
     "text": [
      "+---------------------+--------+--------+------------------+-----+-----+------+------+-----+-----+-------+------------------+-------------------+---------+-----+-----+---------+-------------+------------------+-------------------+--------+\n",
      "|trans_date_trans_time|merchant|category|               amt|first| last|gender|street| city|state|    zip|               lat|               long| city_pop|  job|  dob|trans_num|    unix_time|         merch_lat|         merch_long|is_fraud|\n",
      "+---------------------+--------+--------+------------------+-----+-----+------+------+-----+-----+-------+------------------+-------------------+---------+-----+-----+---------+-------------+------------------+-------------------+--------+\n",
      "|            1027327.0|   629.0|     9.0|194.50999450683594|152.0|414.0|   1.0| 250.0|768.0| 38.0|15686.0|40.615299224853516| -79.45449829101562|    972.0|378.0|922.0|1296509.0|1.362841728E9| 40.42045211791992|  -78.8650131225586|     0.0|\n",
      "|             538776.0|   180.0|     5.0| 52.31999969482422| 87.0| 99.0|   0.0| 714.0|750.0| 37.0|97476.0| 42.82500076293945|-124.44090270996094|    217.0|400.0| 15.0|1057001.0| 1.34565056E9| 42.75886154174805|-123.63633728027344|     0.0|\n",
      "|             108782.0|   429.0|    12.0|  6.53000020980835|321.0|360.0|   0.0| 493.0|400.0| 38.0|15449.0|39.963600158691406|  -79.7853012084961|    184.0|444.0|106.0| 688186.0|1.330824832E9| 40.47515869140625|   -78.898193359375|     0.0|\n",
      "|            1264236.0|   187.0|     6.0| 7.329999923706055|311.0|125.0|   1.0| 839.0|262.0| 34.0|14425.0| 42.95800018310547| -77.30829620361328|  10717.0|115.0|168.0| 791337.0| 1.37141312E9| 43.76750564575195|  -76.5423812866211|     0.0|\n",
      "|             267939.0|    92.0|     2.0| 64.29000091552734|204.0|  5.0|   0.0| 857.0|419.0| 50.0|82221.0| 41.64229965209961|-104.19740295410156|    635.0|358.0|525.0| 129316.0|1.336974848E9|  41.0403938293457|-104.09232330322266|     0.0|\n",
      "|             385341.0|   575.0|    12.0| 129.8000030517578|163.0|364.0|   1.0| 254.0|298.0| 46.0| 5654.0|44.155399322509766| -72.48470306396484|    970.0| 16.0|867.0| 172305.0|1.340880384E9| 44.27239227294922| -72.74370574951172|     0.0|\n",
      "|             945757.0|   345.0|     4.0| 111.0999984741211|174.0| 69.0|   1.0| 876.0|212.0| 22.0|48202.0| 42.37699890136719| -83.07959747314453| 673342.0| 52.0|450.0| 624241.0|1.358932224E9| 42.17049026489258| -83.29141235351562|     0.0|\n",
      "|             957782.0|   144.0|    12.0| 8.430000305175781|349.0|220.0|   1.0| 533.0|763.0| 18.0|71277.0| 32.95500183105469| -92.58699798583984|   1758.0|371.0|233.0|1001428.0|1.359545088E9|32.019065856933594| -91.77901458740234|     0.0|\n",
      "|             125442.0|   252.0|    12.0| 2.359999895095825| 37.0|237.0|   1.0| 481.0|352.0| 43.0|76366.0| 33.67509841918945| -98.65760040283203|   2317.0| 79.0|356.0| 735400.0|1.331462144E9|   32.913818359375| -99.09314727783203|     0.0|\n",
      "|            1103574.0|    19.0|     1.0|              88.0|287.0|312.0|   0.0| 312.0|641.0|  1.0|36869.0|  32.4203987121582| -85.07959747314453|  59744.0| 72.0|690.0|1259433.0| 1.36579264E9| 32.16767883300781|  -85.9576644897461|     0.0|\n",
      "|             846333.0|   481.0|     6.0|124.44999694824219| 93.0|288.0|   1.0| 624.0|321.0| 20.0|21750.0|39.699100494384766| -78.17620086669922|   3766.0|348.0|691.0| 599913.0|1.355755648E9| 39.24230194091797| -77.23402404785156|     0.0|\n",
      "|             693989.0|   657.0|     1.0| 88.58000183105469|315.0|260.0|   0.0| 476.0|486.0| 24.0|63867.0| 36.71540069580078| -89.62870025634766|   1019.0| 15.0|622.0| 985575.0|1.351380352E9|  36.2804069519043| -89.62245178222656|     0.0|\n",
      "|             321006.0|    43.0|     2.0|             56.75|270.0|252.0|   0.0| 384.0|788.0| 29.0|69165.0|41.155799865722656|-101.13600158691406|   1789.0|247.0|663.0| 801646.0|1.338809216E9| 41.19471740722656| -101.0765151977539|     0.0|\n",
      "|             477829.0|   557.0|    11.0|2.0199999809265137|  8.0| 12.0|   0.0| 872.0|271.0|  9.0|33967.0|26.472200393676758| -81.81220245361328| 224256.0|327.0|723.0| 438501.0|1.343738112E9|26.115135192871094| -81.75621032714844|     0.0|\n",
      "|             558010.0|   337.0|    11.0| 7.360000133514404|223.0|380.0|   0.0| 972.0| 44.0| 48.0|53801.0| 42.92070007324219| -91.06849670410156|    878.0|401.0|547.0| 936597.0|1.346250496E9| 43.87887954711914| -90.87122344970703|     0.0|\n",
      "|             570502.0|   190.0|     0.0|62.970001220703125| 85.0|148.0|   0.0| 894.0|643.0| 38.0|19149.0| 40.03689956665039| -75.06639862060547|1526206.0|435.0|709.0|1023711.0|1.346596608E9| 39.35333251953125|  -74.3735580444336|     0.0|\n",
      "|              12174.0|   632.0|     3.0|35.810001373291016|133.0|169.0|   0.0| 449.0|148.0| 38.0|16114.0|41.385101318359375| -80.17520141601562|    606.0|152.0|921.0| 957394.0|1.325991296E9|42.137081146240234|  -79.2263412475586|     0.0|\n",
      "|             395302.0|    94.0|     4.0|49.029998779296875|155.0|437.0|   1.0|  12.0|485.0| 31.0| 7747.0|  40.4109001159668| -74.23799896240234|  30770.0|136.0|860.0| 762689.0|1.341139456E9|  40.9027214050293|  -74.6629409790039|     0.0|\n",
      "|             677815.0|   322.0|     6.0| 65.27999877929688| 15.0|428.0|   1.0| 589.0|594.0| 34.0|12460.0|42.406898498535156| -74.15280151367188|    277.0|216.0|489.0| 746500.0| 1.35076416E9| 42.21784973144531| -75.02774810791016|     0.0|\n",
      "|            1256167.0|   230.0|     1.0|  28.8700008392334|196.0|418.0|   0.0|   9.0|124.0|  4.0|95528.0| 40.50699996948242|-123.97429656982422|   1139.0|469.0|154.0| 379779.0|1.371232768E9|40.620906829833984|-124.28250122070312|     0.0|\n",
      "+---------------------+--------+--------+------------------+-----+-----+------+------+-----+-----+-------+------------------+-------------------+---------+-----+-----+---------+-------------+------------------+-------------------+--------+\n",
      "only showing top 20 rows\n",
      "\n",
      "Number of rows in the df_test: 259335\n"
     ]
    }
   ],
   "source": [
    "df_test.show()\n",
    "num_rows = df_test.count()\n",
    "print(f\"Number of rows in the df_test: {num_rows}\")"
   ]
  },
  {
   "cell_type": "markdown",
   "metadata": {},
   "source": [
    "## Sample to 10,000 train rows to do SVM classifaction"
   ]
  },
  {
   "cell_type": "code",
   "execution_count": 19,
   "metadata": {},
   "outputs": [
    {
     "name": "stdout",
     "output_type": "stream",
     "text": [
      "+---------------------+--------+--------+------------------+-----+-----+------+------+-----+-----+-------+------------------+-------------------+--------+-----+-----+---------+-------------+------------------+-------------------+--------+\n",
      "|trans_date_trans_time|merchant|category|               amt|first| last|gender|street| city|state|    zip|               lat|               long|city_pop|  job|  dob|trans_num|    unix_time|         merch_lat|         merch_long|is_fraud|\n",
      "+---------------------+--------+--------+------------------+-----+-----+------+------+-----+-----+-------+------------------+-------------------+--------+-----+-----+---------+-------------+------------------+-------------------+--------+\n",
      "|             526559.0|   446.0|     3.0| 74.38999938964844|292.0|178.0|   0.0| 603.0|811.0| 34.0|12986.0|44.231998443603516|  -74.4905014038086|  6120.0| 70.0|584.0| 990005.0|1.345261952E9|43.599830627441406| -75.24797058105469|     0.0|\n",
      "|              49539.0|   500.0|    10.0| 78.16000366210938|122.0|261.0|   0.0|  80.0|292.0| 14.0|62939.0| 37.57500076293945| -88.96549987792969|  3119.0|452.0| 89.0| 106493.0|1.327880064E9|  37.5785026550293| -88.12123107910156|     0.0|\n",
      "|             741833.0|   563.0|     4.0| 42.93000030517578|221.0|353.0|   0.0| 432.0|677.0| 23.0|56668.0| 48.60309982299805| -93.29769897460938|   136.0| 65.0|949.0|1291634.0|1.353231104E9| 49.27715301513672| -93.50527954101562|     0.0|\n",
      "|            1073861.0|   394.0|     4.0| 54.16999816894531|201.0|381.0|   1.0|  11.0|793.0| 47.0|99033.0| 47.22710037231445|-117.08190155029297|   895.0| 91.0|937.0| 611220.0|1.364639232E9|46.585514068603516|-116.63619232177734|     0.0|\n",
      "|            1246633.0|   603.0|     6.0| 81.19000244140625|164.0|224.0|   1.0| 364.0|257.0| 31.0| 7022.0| 40.81700134277344|              -74.0| 13835.0|366.0|406.0|1107554.0|  1.3708864E9| 40.02770233154297|  -73.7882308959961|     0.0|\n",
      "|             475259.0|   613.0|     3.0| 92.19000244140625|193.0|306.0|   0.0|   8.0|184.0| 17.0|41810.0| 37.17879867553711| -82.69499969482422|   502.0| 75.0|269.0| 558094.0|1.343620992E9|38.076656341552734| -83.14789581298828|     0.0|\n",
      "|             431584.0|   450.0|     0.0|35.959999084472656| 10.0|404.0|   0.0| 176.0|735.0| 40.0|29939.0|  32.6786003112793| -81.24549865722656|   302.0|277.0|520.0| 598373.0|1.342289152E9| 33.23838424682617| -80.74852752685547|     0.0|\n",
      "|             839691.0|   308.0|     4.0| 90.70999908447266|120.0| 44.0|   0.0| 341.0|608.0| 15.0|47451.0|   38.893798828125| -86.52459716796875|  1228.0|113.0|833.0| 995148.0|1.355630848E9| 38.31352233886719| -85.61063385009766|     0.0|\n",
      "|             949992.0|    17.0|    12.0|  7.71999979019165| 56.0| 46.0|   0.0| 927.0|593.0| 43.0|79539.0|33.374900817871094| -99.84729766845703|   178.0|486.0|679.0|  83864.0|1.359150336E9|  32.7954216003418| -100.3082504272461|     0.0|\n",
      "|              99474.0|   334.0|     1.0|50.709999084472656|203.0|359.0|   0.0| 644.0|815.0| 43.0|75703.0|32.276798248291016|  -95.3031005859375|144160.0|432.0|695.0| 133868.0|1.330434176E9|32.293357849121094| -94.41082763671875|     0.0|\n",
      "|             425091.0|   483.0|    12.0|397.54998779296875|287.0|217.0|   0.0| 321.0|797.0| 44.0|84540.0|38.999900817871094|-109.61499786376953|    46.0|440.0|758.0|1084360.0|1.342119808E9| 39.72191619873047|-108.67149353027344|     0.0|\n",
      "|             401339.0|   621.0|    13.0|2.9700000286102295|204.0|175.0|   0.0| 261.0|291.0| 22.0|48438.0| 42.91469955444336|  -83.4844970703125|  6951.0|263.0|719.0| 993599.0| 1.34135424E9|  42.3232307434082| -82.80762481689453|     0.0|\n",
      "|             440068.0|   679.0|     6.0|155.05999755859375| 36.0|389.0|   0.0| 954.0| 36.0| 38.0|19310.0|    39.94580078125| -75.97029876708984|  3066.0|357.0| 14.0| 392917.0| 1.34256384E9|  39.9192008972168| -76.15045166015625|     0.0|\n",
      "|             308239.0|   495.0|     7.0| 73.80000305175781|203.0|161.0|   0.0| 727.0| 54.0|  2.0|72011.0| 34.50910186767578| -92.48280334472656|  4074.0|408.0|566.0| 272756.0|1.338468992E9| 34.10115432739258|  -92.6395034790039|     0.0|\n",
      "|             185062.0|   487.0|    11.0| 4.239999771118164|126.0|  7.0|   1.0|  57.0|554.0|  9.0|34112.0| 26.11840057373047| -81.73609924316406|276002.0|364.0|619.0|1065008.0|1.333806336E9|26.745126724243164| -81.24591064453125|     0.0|\n",
      "|             386040.0|   606.0|     7.0|32.790000915527344|256.0|284.0|   1.0| 772.0|252.0| 32.0|87533.0| 35.98659896850586|-106.06539916992188| 18408.0|226.0|502.0|1290825.0|1.340904704E9|36.532142639160156|-105.93284606933594|     0.0|\n",
      "|             489582.0|   476.0|     0.0|23.030000686645508| 31.0|278.0|   0.0| 244.0|516.0|  1.0|36617.0|30.714500427246094|      -88.091796875|270712.0|439.0|491.0| 455044.0|1.344101248E9|30.441864013671875| -88.90616607666016|     0.0|\n",
      "|              51107.0|   379.0|     8.0| 8.720000267028809|326.0| 33.0|   0.0| 443.0|745.0| 49.0|25442.0| 39.37160110473633|  -77.8228988647461|  1925.0|444.0|379.0| 116431.0| 1.32800448E9| 39.22444152832031| -78.33611297607422|     0.0|\n",
      "|             419899.0|   379.0|     8.0| 15.34000015258789|174.0|412.0|   1.0| 431.0|364.0| 34.0|12534.0| 42.24700164794922| -73.75520324707031| 17867.0|480.0|931.0|1181467.0|1.341925248E9| 41.86244583129883| -73.43917083740234|     0.0|\n",
      "|             657995.0|   336.0|     4.0|133.83999633789062| 14.0|245.0|   0.0| 436.0| 34.0| 47.0|98304.0| 46.75310134887695|-121.98979949951172|   759.0|483.0|218.0|1073122.0|1.350042624E9| 47.13540267944336|   -121.06982421875|     0.0|\n",
      "+---------------------+--------+--------+------------------+-----+-----+------+------+-----+-----+-------+------------------+-------------------+--------+-----+-----+---------+-------------+------------------+-------------------+--------+\n",
      "only showing top 20 rows\n",
      "\n",
      "Number of rows in the sampled data: 10000\n"
     ]
    }
   ],
   "source": [
    "# Calculate the fraction to sample based on total count of the data\n",
    "fraction = 10000 / df_train.count()\n",
    "\n",
    "# Sample the data using the calculated fraction\n",
    "data_svm_sample = df_train.sample(fraction=fraction, seed=int(time.time()))\n",
    "\n",
    "# Ensure exactly 10,000 rows (limit the result)\n",
    "data_svm_sample = data_svm_sample.limit(10000)\n",
    "\n",
    "# Show the sampled data\n",
    "data_svm_sample.show()\n",
    "num_rows = data_svm_sample.count()\n",
    "print(f\"Number of rows in the sampled data: {num_rows}\")"
   ]
  },
  {
   "cell_type": "markdown",
   "metadata": {},
   "source": [
    "## Use PCA to reduce to 2 collumns"
   ]
  },
  {
   "cell_type": "code",
   "execution_count": 64,
   "metadata": {},
   "outputs": [],
   "source": [
    "# Step 1: Drop the existing 'features' column if it already exists\n",
    "if 'features' in data_svm_sample.columns:\n",
    "    data_svm_sample = data_svm_sample.drop('features')\n",
    "if 'features' in df_test.columns:\n",
    "    df_test = df_test.drop('features')\n",
    "\n",
    "# Step 2: Assemble features into a vector (you'll need to exclude the label column 'is_fraud')\n",
    "feature_columns = [col for col in data_svm_sample.columns if col != 'is_fraud']\n",
    "assembler = VectorAssembler(inputCols=feature_columns, outputCol=\"features\")\n",
    "data_svm_sample = assembler.transform(data_svm_sample)\n",
    "df_test = assembler.transform(df_test)\n",
    "\n",
    "# Step 3: Standardize the features before PCA\n",
    "scaler = StandardScaler(inputCol=\"features\", outputCol=\"scaled_features\", withStd=True, withMean=True)\n",
    "scaler_model = scaler.fit(data_svm_sample)\n",
    "data_svm_sample_scaled = scaler_model.transform(data_svm_sample)\n",
    "df_test_scaled = scaler_model.transform(df_test)\n",
    "\n",
    "# Step 4: Use PCA to reduce the dimensionality to 2D\n",
    "pca = PCA(k=2, inputCol=\"scaled_features\", outputCol=\"pca_features\")\n",
    "pca_model = pca.fit(data_svm_sample_scaled)\n",
    "data_svm_sample_pca = pca_model.transform(data_svm_sample_scaled)\n",
    "\n",
    "# Apply the same PCA model to df_test\n",
    "df_test_pca = pca_model.transform(df_test_scaled)"
   ]
  },
  {
   "cell_type": "markdown",
   "metadata": {},
   "source": [
    "## Train the SVM, test the accuracy and plot the svm boundary"
   ]
  },
  {
   "cell_type": "code",
   "execution_count": 63,
   "metadata": {},
   "outputs": [
    {
     "name": "stdout",
     "output_type": "stream",
     "text": [
      "Test Accuracy = 0.9941\n"
     ]
    },
    {
     "data": {
      "image/png": "[encoded data removed]",
      "text/plain": [
       "<Figure size 720x432 with 1 Axes>"
      ]
     },
     "metadata": {
      "needs_background": "light"
     },
     "output_type": "display_data"
    }
   ],
   "source": [
    "# Step 5: Train the SVM model using LinearSVC on the PCA-transformed training data\n",
    "svm = LinearSVC(labelCol=\"is_fraud\", featuresCol=\"pca_features\", maxIter=10, regParam=0.1)\n",
    "svm_model = svm.fit(data_svm_sample_pca)\n",
    "\n",
    "# Step 6: Apply the trained SVM model to the test data\n",
    "predictions = svm_model.transform(df_test_pca)\n",
    "\n",
    "# Step 7: Evaluate the model accuracy\n",
    "evaluator = MulticlassClassificationEvaluator(\n",
    "    labelCol=\"is_fraud\", predictionCol=\"prediction\", metricName=\"accuracy\")\n",
    "accuracy = evaluator.evaluate(predictions)\n",
    "print(f\"Test Accuracy = {accuracy:.4f}\")\n",
    "\n",
    "# Step 8: Plot the decision boundary again\n",
    "import numpy as np\n",
    "import matplotlib.pyplot as plt\n",
    "\n",
    "# Extract the PCA features and labels from the training and test data\n",
    "train_data = data_svm_sample_pca.select(\"pca_features\", \"is_fraud\").collect()\n",
    "X_train = np.array([row['pca_features'].toArray() for row in train_data])\n",
    "y_train = np.array([row['is_fraud'] for row in train_data])\n",
    "\n",
    "test_data = df_test_pca.select(\"pca_features\", \"is_fraud\").collect()\n",
    "X_test = np.array([row['pca_features'].toArray() for row in test_data])\n",
    "y_test = np.array([row['is_fraud'] for row in test_data])\n",
    "\n",
    "# Combine train and test sets\n",
    "X = np.vstack((X_train, X_test))\n",
    "y = np.concatenate((y_train, y_test))\n",
    "\n",
    "# Step 9: Plot the data points (fraud vs non-fraud)\n",
    "plt.figure(figsize=(10, 6))\n",
    "plt.scatter(X[y == 0][:, 0], X[y == 0][:, 1], color='blue', label='Non-Fraud', s=20)\n",
    "plt.scatter(X[y == 1][:, 0], X[y == 1][:, 1], color='red', label='Fraud', s=20)\n",
    "\n",
    "# Plot the decision boundary\n",
    "w = svm_model.coefficients.toArray()  # Get the coefficients\n",
    "b = svm_model.intercept  # Get the intercept\n",
    "x_min, x_max = X[:, 0].min() - 1, X[:, 0].max() + 1\n",
    "xx = np.linspace(x_min, x_max)\n",
    "yy = -(w[0] * xx + b) / w[1]\n",
    "plt.plot(xx, yy, color='black', linestyle='--', label='Decision Boundary')\n",
    "\n",
    "plt.xlabel('PCA Feature 1')\n",
    "plt.ylabel('PCA Feature 2')\n",
    "plt.title('SVM Decision Boundary on PCA-Reduced Data (Scaled)')\n",
    "plt.legend()\n",
    "plt.show()\n"
   ]
  },
  {
   "cell_type": "code",
   "execution_count": 66,
   "metadata": {},
   "outputs": [
    {
     "data": {
      "image/png": "[encoded data removed]",
      "text/plain": [
       "<Figure size 720x432 with 1 Axes>"
      ]
     },
     "metadata": {
      "needs_background": "light"
     },
     "output_type": "display_data"
    }
   ],
   "source": [
    "import matplotlib.pyplot as plt\n",
    "import numpy as np\n",
    "\n",
    "# Extract the actual and predicted labels from the predictions DataFrame\n",
    "predictions_data = predictions.select(\"is_fraud\", \"prediction\").collect()\n",
    "\n",
    "# Convert to NumPy arrays\n",
    "actual = np.array([row['is_fraud'] for row in predictions_data])\n",
    "predicted = np.array([row['prediction'] for row in predictions_data])\n",
    "\n",
    "# Create an index for the x-axis\n",
    "index = np.arange(len(actual))\n",
    "\n",
    "# Plot a subset of the data for better visualization (optional)\n",
    "sample_size = 1000  # You can adjust this number as needed\n",
    "index_sample = index[:sample_size]\n",
    "actual_sample = actual[:sample_size]\n",
    "predicted_sample = predicted[:sample_size]\n",
    "\n",
    "# Plot the actual and predicted values\n",
    "plt.figure(figsize=(10, 6))\n",
    "\n",
    "# Plot actual values with markers\n",
    "plt.plot(index_sample, actual_sample, label='Actual', color='blue', marker='o', linestyle='None', markersize=3)\n",
    "\n",
    "# Plot predicted values with markers\n",
    "plt.plot(index_sample, predicted_sample, label='Predicted', color='orange', marker='x', linestyle='None', markersize=3)\n",
    "\n",
    "# Add labels and title\n",
    "plt.xlabel('Index')\n",
    "plt.ylabel('Value (0: Non-Fraud, 1: Fraud)')\n",
    "plt.title('Actual vs Predicted Values (Sampled)')\n",
    "\n",
    "# Add a legend\n",
    "plt.legend()\n",
    "\n",
    "# Show the plot\n",
    "plt.show()\n"
   ]
  },
  {
   "cell_type": "code",
   "execution_count": null,
   "metadata": {},
   "outputs": [],
   "source": []
  }
 ],
 "metadata": {
  "kernelspec": {
   "display_name": "Python 3",
   "language": "python",
   "name": "python3"
  },
  "language_info": {
   "codemirror_mode": {
    "name": "ipython",
    "version": 3
   },
   "file_extension": ".py",
   "mimetype": "text/x-python",
   "name": "python",
   "nbconvert_exporter": "python",
   "pygments_lexer": "ipython3",
   "version": "3.12.4"
  }
 },
 "nbformat": 4,
 "nbformat_minor": 2
}
